{
 "cells": [
  {
   "cell_type": "code",
   "execution_count": null,
   "metadata": {},
   "outputs": [],
   "source": [
    "import pandas as pd\n",
    "import BERT_model\n",
    "from BERT_model import *"
   ]
  },
  {
   "cell_type": "code",
   "execution_count": null,
   "metadata": {},
   "outputs": [],
   "source": [
    "import torch\n",
    "\n",
    "model = torch.load('../data/model/largemodel_sample1000_epoch12.pt', map_location=torch.device('cpu'))\n",
    "model.eval()"
   ]
  },
  {
   "cell_type": "code",
   "execution_count": null,
   "metadata": {},
   "outputs": [],
   "source": [
    "import re\n",
    "\n",
    "def prediction(model, text):\n",
    "    #특수 문자 제거\n",
    "    text_rmv = re.sub('[-=+,#/\\?:^.@*\\\"※~ㆍ!』‘|\\(\\)\\[\\]`\\'…》\\”\\“\\’·]', ' ', text)\n",
    "    # 공백 한개로 만들기\n",
    "    new_str = ' '.join(text_rmv.split())\n",
    "    # 임의의 dataframe으로 만들기\n",
    "    text_dict = {'posts': [new_str], 'type' : ['INTP']}\n",
    "    test_data = pd.DataFrame(text_dict)\n",
    "\n",
    "    #훈련 모델에 맞는 Dataset으로 변환\n",
    "    test = Dataset(test_data)\n",
    "    test_dataloader = torch.utils.data.DataLoader(test, batch_size=2)\n",
    "\n",
    "    use_cuda = torch.cuda.is_available()\n",
    "    device = torch.device(\"cuda\" if use_cuda else \"cpu\")\n",
    "\n",
    "    if use_cuda:\n",
    "\n",
    "        model = model.cuda()\n",
    "\n",
    "    total_acc_test = 0\n",
    "    with torch.no_grad():\n",
    "\n",
    "        for test_input, test_label in test_dataloader:\n",
    "            output = BERT_model.GetModelOutput(model, test_input, test_label, device)\n",
    "            predicted = output.argmax(dim=1)\n",
    "            \n",
    "    return predicted"
   ]
  },
  {
   "cell_type": "code",
   "execution_count": null,
   "metadata": {},
   "outputs": [],
   "source": [
    "from googletrans import Translator\n",
    "\n",
    "# 입력된 텍스트가 한글인지 영어인지 판단해서 한글이 하나라도 있으면 영어로 변역한다.\n",
    "def isKorean(input_s):\n",
    "    k_count = 0\n",
    "    e_count = 0\n",
    "    for c in input_s:\n",
    "        if ord('가') <= ord(c) <= ord('힣'):\n",
    "            k_count+=1\n",
    "        elif ord('a') <= ord(c.lower()) <= ord('z'):\n",
    "            e_count+=1\n",
    "\n",
    "    return k_count > 0\n",
    "\n",
    "# 한글에서 영어로 번역\n",
    "def languageTrans(text):\n",
    "    translator = Translator()\n",
    "\n",
    "    translation = translator.translate(text, dest = 'en')\n",
    "\n",
    "    return translation.text"
   ]
  },
  {
   "cell_type": "code",
   "execution_count": null,
   "metadata": {},
   "outputs": [],
   "source": [
    "input_text = input('뭐든 입력해봐')\n",
    "\n",
    "print(len(input_text))\n",
    "\n",
    "if isKorean(input_text):\n",
    "    input_text = languageTrans(input_text)\n",
    "\n",
    "predicted = prediction(model, input_text)\n",
    "\n",
    "print(BERT_model.resultLabels.get(predicted.item()))"
   ]
  }
 ],
 "metadata": {
  "kernelspec": {
   "display_name": "Python 3",
   "language": "python",
   "name": "python3"
  },
  "language_info": {
   "codemirror_mode": {
    "name": "ipython",
    "version": 3
   },
   "file_extension": ".py",
   "mimetype": "text/x-python",
   "name": "python",
   "nbconvert_exporter": "python",
   "pygments_lexer": "ipython3",
   "version": "3.11.3"
  },
  "orig_nbformat": 4
 },
 "nbformat": 4,
 "nbformat_minor": 2
}
