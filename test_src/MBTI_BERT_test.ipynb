{
 "cells": [
  {
   "cell_type": "code",
   "execution_count": 1,
   "id": "be475169",
   "metadata": {},
   "outputs": [],
   "source": [
    "import pandas as pd\n",
    "\n",
    "df = pd.read_csv('./data/csv/national petition_MBTI.csv')"
   ]
  },
  {
   "cell_type": "code",
   "execution_count": 8,
   "id": "d6477742",
   "metadata": {},
   "outputs": [],
   "source": [
    "import re\n",
    "\n",
    "#특수 문자 제거\n",
    "def remove(text):\n",
    "    text_rmv = re.sub('[-=+,#/\\?:^.@*\\\"※~ㆍ!』‘|\\(\\)\\[\\]`\\'…》\\”\\“\\’·]', ' ', text)\n",
    "    # 공백 한개로 만들기\n",
    "    new_str = ' '.join(text_rmv.split())\n",
    "\n",
    "    return new_str\n",
    "\n",
    "\n",
    "remove_df = df['content'].apply(remove)\n",
    "\n"
   ]
  },
  {
   "cell_type": "code",
   "execution_count": 9,
   "id": "6985ddc0",
   "metadata": {},
   "outputs": [
    {
     "data": {
      "text/plain": [
       "0    State based and instructor full time employees...\n",
       "1    1 In listen current situation \\ n due to the a...\n",
       "2    I like to write this article to the president ...\n",
       "3    Teachers promotion system scores a variety of ...\n",
       "4    8 2 I will petition for the damage caused by t...\n",
       "Name: content, dtype: object"
      ]
     },
     "execution_count": 9,
     "metadata": {},
     "output_type": "execute_result"
    }
   ],
   "source": [
    "remove_df.head()"
   ]
  }
 ],
 "metadata": {
  "kernelspec": {
   "display_name": "Python 3 (ipykernel)",
   "language": "python",
   "name": "python3"
  },
  "language_info": {
   "codemirror_mode": {
    "name": "ipython",
    "version": 3
   },
   "file_extension": ".py",
   "mimetype": "text/x-python",
   "name": "python",
   "nbconvert_exporter": "python",
   "pygments_lexer": "ipython3",
   "version": "3.11.3"
  }
 },
 "nbformat": 4,
 "nbformat_minor": 5
}
