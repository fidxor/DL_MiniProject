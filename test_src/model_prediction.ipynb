{
 "cells": [
  {
   "cell_type": "code",
   "execution_count": 45,
   "metadata": {},
   "outputs": [],
   "source": [
    "import pandas as pd\n",
    "\n",
    "df = pd.read_csv('./data/csv/petition_corrupted_sampled.csv')"
   ]
  },
  {
   "cell_type": "code",
   "execution_count": 46,
   "metadata": {},
   "outputs": [],
   "source": [
    "df = df[(df['content'].str.len() >= 800) & (df['content'].str.len() <= 1500)]"
   ]
  },
  {
   "cell_type": "code",
   "execution_count": 47,
   "metadata": {},
   "outputs": [
    {
     "name": "stdout",
     "output_type": "stream",
     "text": [
      "<class 'pandas.core.frame.DataFrame'>\n",
      "Int64Index: 1727 entries, 1 to 17961\n",
      "Data columns (total 8 columns):\n",
      " #   Column      Non-Null Count  Dtype  \n",
      "---  ------      --------------  -----  \n",
      " 0   article_id  1727 non-null   int64  \n",
      " 1   start       1708 non-null   object \n",
      " 2   end         1712 non-null   object \n",
      " 3   answered    1727 non-null   int64  \n",
      " 4   votes       1705 non-null   float64\n",
      " 5   category    1703 non-null   object \n",
      " 6   title       1727 non-null   object \n",
      " 7   content     1727 non-null   object \n",
      "dtypes: float64(1), int64(2), object(5)\n",
      "memory usage: 121.4+ KB\n"
     ]
    }
   ],
   "source": [
    "df.info()"
   ]
  },
  {
   "cell_type": "code",
   "execution_count": 51,
   "metadata": {},
   "outputs": [
    {
     "data": {
      "text/html": [
       "<div>\n",
       "<style scoped>\n",
       "    .dataframe tbody tr th:only-of-type {\n",
       "        vertical-align: middle;\n",
       "    }\n",
       "\n",
       "    .dataframe tbody tr th {\n",
       "        vertical-align: top;\n",
       "    }\n",
       "\n",
       "    .dataframe thead th {\n",
       "        text-align: right;\n",
       "    }\n",
       "</style>\n",
       "<table border=\"1\" class=\"dataframe\">\n",
       "  <thead>\n",
       "    <tr style=\"text-align: right;\">\n",
       "      <th></th>\n",
       "      <th>content</th>\n",
       "    </tr>\n",
       "  </thead>\n",
       "  <tbody>\n",
       "    <tr>\n",
       "      <th>1</th>\n",
       "      <td>기간제 및 강사 정규직, 무기직 전환부분은 평등한 기회, 공정한 과정, 정의로운 결...</td>\n",
       "    </tr>\n",
       "    <tr>\n",
       "      <th>2</th>\n",
       "      <td>1. 들어가며(현재 상황)\\n공직복무관리관실의 감사로 인하여 현재 교수 4인 및 학...</td>\n",
       "    </tr>\n",
       "    <tr>\n",
       "      <th>4</th>\n",
       "      <td>대통령님께 이러한 글을 써서 전할수도 있다는 것이 좋아 잠시 눈가에 눈물대신 입가에...</td>\n",
       "    </tr>\n",
       "    <tr>\n",
       "      <th>15</th>\n",
       "      <td>교사의 승진 제도는 1정 자격연수 점수, 연구시범학교 경력, 직무연수 점수, 학교폭...</td>\n",
       "    </tr>\n",
       "    <tr>\n",
       "      <th>16</th>\n",
       "      <td>8.2 대책으로 인한 피해를 호소하고 정책의 큰 흐름은 유지하면서도  소급 적용의 ...</td>\n",
       "    </tr>\n",
       "    <tr>\n",
       "      <th>...</th>\n",
       "      <td>...</td>\n",
       "    </tr>\n",
       "    <tr>\n",
       "      <th>17926</th>\n",
       "      <td>안녕하세요\\n참다 참다 글을 올립니다.\\n정말 이래서 주위사람들을 잘 만나야 한다고...</td>\n",
       "    </tr>\n",
       "    <tr>\n",
       "      <th>17932</th>\n",
       "      <td>존경하는 대통령님\\n천정부지로 치솟는 부동산 중 소상공인이 가장 주목받고 이에 따른...</td>\n",
       "    </tr>\n",
       "    <tr>\n",
       "      <th>17945</th>\n",
       "      <td>경제행보. 아무 필요없습니다. 그것은 국민에게 아무 도움이 되지 않습니다. 천민자본...</td>\n",
       "    </tr>\n",
       "    <tr>\n",
       "      <th>17950</th>\n",
       "      <td>현정부가 추진하고 있는 대북정책사업 자금 국민들의 세금이고 그세금이 북한사업에 얼마...</td>\n",
       "    </tr>\n",
       "    <tr>\n",
       "      <th>17961</th>\n",
       "      <td>안녕하세요.\\n저는 세종정부청사 특정 부처에서 4년이상 PC전산장비 유지보수업무를 ...</td>\n",
       "    </tr>\n",
       "  </tbody>\n",
       "</table>\n",
       "<p>1727 rows × 1 columns</p>\n",
       "</div>"
      ],
      "text/plain": [
       "                                                 content\n",
       "1      기간제 및 강사 정규직, 무기직 전환부분은 평등한 기회, 공정한 과정, 정의로운 결...\n",
       "2      1. 들어가며(현재 상황)\\n공직복무관리관실의 감사로 인하여 현재 교수 4인 및 학...\n",
       "4      대통령님께 이러한 글을 써서 전할수도 있다는 것이 좋아 잠시 눈가에 눈물대신 입가에...\n",
       "15     교사의 승진 제도는 1정 자격연수 점수, 연구시범학교 경력, 직무연수 점수, 학교폭...\n",
       "16     8.2 대책으로 인한 피해를 호소하고 정책의 큰 흐름은 유지하면서도  소급 적용의 ...\n",
       "...                                                  ...\n",
       "17926  안녕하세요\\n참다 참다 글을 올립니다.\\n정말 이래서 주위사람들을 잘 만나야 한다고...\n",
       "17932  존경하는 대통령님\\n천정부지로 치솟는 부동산 중 소상공인이 가장 주목받고 이에 따른...\n",
       "17945  경제행보. 아무 필요없습니다. 그것은 국민에게 아무 도움이 되지 않습니다. 천민자본...\n",
       "17950  현정부가 추진하고 있는 대북정책사업 자금 국민들의 세금이고 그세금이 북한사업에 얼마...\n",
       "17961  안녕하세요.\\n저는 세종정부청사 특정 부처에서 4년이상 PC전산장비 유지보수업무를 ...\n",
       "\n",
       "[1727 rows x 1 columns]"
      ]
     },
     "execution_count": 51,
     "metadata": {},
     "output_type": "execute_result"
    }
   ],
   "source": [
    "df_slice = df['content'].to_frame()\n",
    "\n",
    "df_slice"
   ]
  },
  {
   "cell_type": "code",
   "execution_count": null,
   "metadata": {},
   "outputs": [],
   "source": [
    "df_slice.to_csv('./data/csv/ko_national petition_MBTI.csv')"
   ]
  },
  {
   "cell_type": "code",
   "execution_count": 49,
   "metadata": {},
   "outputs": [],
   "source": [
    "en_df = pd.read_csv('./data/csv/national petition_MBTI.csv')"
   ]
  },
  {
   "cell_type": "code",
   "execution_count": 50,
   "metadata": {},
   "outputs": [
    {
     "data": {
      "text/html": [
       "<div>\n",
       "<style scoped>\n",
       "    .dataframe tbody tr th:only-of-type {\n",
       "        vertical-align: middle;\n",
       "    }\n",
       "\n",
       "    .dataframe tbody tr th {\n",
       "        vertical-align: top;\n",
       "    }\n",
       "\n",
       "    .dataframe thead th {\n",
       "        text-align: right;\n",
       "    }\n",
       "</style>\n",
       "<table border=\"1\" class=\"dataframe\">\n",
       "  <thead>\n",
       "    <tr style=\"text-align: right;\">\n",
       "      <th></th>\n",
       "      <th>content</th>\n",
       "      <th>Unnamed: 0.1</th>\n",
       "      <th>Unnamed: 0</th>\n",
       "      <th>content</th>\n",
       "      <th>type</th>\n",
       "    </tr>\n",
       "  </thead>\n",
       "  <tbody>\n",
       "    <tr>\n",
       "      <th>1</th>\n",
       "      <td>기간제 및 강사 정규직, 무기직 전환부분은 평등한 기회, 공정한 과정, 정의로운 결...</td>\n",
       "      <td>1.0</td>\n",
       "      <td>2.0</td>\n",
       "      <td>1. In listen (current situation) \\ n due to th...</td>\n",
       "      <td>ESTJ</td>\n",
       "    </tr>\n",
       "    <tr>\n",
       "      <th>2</th>\n",
       "      <td>1. 들어가며(현재 상황)\\n공직복무관리관실의 감사로 인하여 현재 교수 4인 및 학...</td>\n",
       "      <td>2.0</td>\n",
       "      <td>4.0</td>\n",
       "      <td>I like to write this article to the president,...</td>\n",
       "      <td>INFP</td>\n",
       "    </tr>\n",
       "    <tr>\n",
       "      <th>4</th>\n",
       "      <td>대통령님께 이러한 글을 써서 전할수도 있다는 것이 좋아 잠시 눈가에 눈물대신 입가에...</td>\n",
       "      <td>4.0</td>\n",
       "      <td>16.0</td>\n",
       "      <td>8.2 I will petition for the damage caused by t...</td>\n",
       "      <td>INFP</td>\n",
       "    </tr>\n",
       "    <tr>\n",
       "      <th>15</th>\n",
       "      <td>교사의 승진 제도는 1정 자격연수 점수, 연구시범학교 경력, 직무연수 점수, 학교폭...</td>\n",
       "      <td>15.0</td>\n",
       "      <td>87.0</td>\n",
       "      <td>In terms of dispatched positions in the public...</td>\n",
       "      <td>INFP</td>\n",
       "    </tr>\n",
       "    <tr>\n",
       "      <th>16</th>\n",
       "      <td>8.2 대책으로 인한 피해를 호소하고 정책의 큰 흐름은 유지하면서도  소급 적용의 ...</td>\n",
       "      <td>16.0</td>\n",
       "      <td>88.0</td>\n",
       "      <td>Hello, President I have posted to run the law ...</td>\n",
       "      <td>INFP</td>\n",
       "    </tr>\n",
       "    <tr>\n",
       "      <th>...</th>\n",
       "      <td>...</td>\n",
       "      <td>...</td>\n",
       "      <td>...</td>\n",
       "      <td>...</td>\n",
       "      <td>...</td>\n",
       "    </tr>\n",
       "    <tr>\n",
       "      <th>1722</th>\n",
       "      <td>NaN</td>\n",
       "      <td>1722.0</td>\n",
       "      <td>17926.0</td>\n",
       "      <td>Hello \\ N \\ N \\ 참 참 참 I will post. \\ N I reall...</td>\n",
       "      <td>ENTJ</td>\n",
       "    </tr>\n",
       "    <tr>\n",
       "      <th>1723</th>\n",
       "      <td>NaN</td>\n",
       "      <td>1723.0</td>\n",
       "      <td>17932.0</td>\n",
       "      <td>Respected President \\ N among the real estate ...</td>\n",
       "      <td>INFP</td>\n",
       "    </tr>\n",
       "    <tr>\n",
       "      <th>1724</th>\n",
       "      <td>NaN</td>\n",
       "      <td>1724.0</td>\n",
       "      <td>17945.0</td>\n",
       "      <td>Economic behavior.No need.It doesn't help the ...</td>\n",
       "      <td>INFP</td>\n",
       "    </tr>\n",
       "    <tr>\n",
       "      <th>1725</th>\n",
       "      <td>NaN</td>\n",
       "      <td>1725.0</td>\n",
       "      <td>17950.0</td>\n",
       "      <td>The people who are taxed by the current govern...</td>\n",
       "      <td>INFP</td>\n",
       "    </tr>\n",
       "    <tr>\n",
       "      <th>1726</th>\n",
       "      <td>NaN</td>\n",
       "      <td>1726.0</td>\n",
       "      <td>17961.0</td>\n",
       "      <td>Hello. \\ N I am an employee who has been maint...</td>\n",
       "      <td>INFP</td>\n",
       "    </tr>\n",
       "  </tbody>\n",
       "</table>\n",
       "<p>3322 rows × 5 columns</p>\n",
       "</div>"
      ],
      "text/plain": [
       "                                                content  Unnamed: 0.1  \\\n",
       "1     기간제 및 강사 정규직, 무기직 전환부분은 평등한 기회, 공정한 과정, 정의로운 결...           1.0   \n",
       "2     1. 들어가며(현재 상황)\\n공직복무관리관실의 감사로 인하여 현재 교수 4인 및 학...           2.0   \n",
       "4     대통령님께 이러한 글을 써서 전할수도 있다는 것이 좋아 잠시 눈가에 눈물대신 입가에...           4.0   \n",
       "15    교사의 승진 제도는 1정 자격연수 점수, 연구시범학교 경력, 직무연수 점수, 학교폭...          15.0   \n",
       "16    8.2 대책으로 인한 피해를 호소하고 정책의 큰 흐름은 유지하면서도  소급 적용의 ...          16.0   \n",
       "...                                                 ...           ...   \n",
       "1722                                                NaN        1722.0   \n",
       "1723                                                NaN        1723.0   \n",
       "1724                                                NaN        1724.0   \n",
       "1725                                                NaN        1725.0   \n",
       "1726                                                NaN        1726.0   \n",
       "\n",
       "      Unnamed: 0                                            content  type  \n",
       "1            2.0  1. In listen (current situation) \\ n due to th...  ESTJ  \n",
       "2            4.0  I like to write this article to the president,...  INFP  \n",
       "4           16.0  8.2 I will petition for the damage caused by t...  INFP  \n",
       "15          87.0  In terms of dispatched positions in the public...  INFP  \n",
       "16          88.0  Hello, President I have posted to run the law ...  INFP  \n",
       "...          ...                                                ...   ...  \n",
       "1722     17926.0  Hello \\ N \\ N \\ 참 참 참 I will post. \\ N I reall...  ENTJ  \n",
       "1723     17932.0  Respected President \\ N among the real estate ...  INFP  \n",
       "1724     17945.0  Economic behavior.No need.It doesn't help the ...  INFP  \n",
       "1725     17950.0  The people who are taxed by the current govern...  INFP  \n",
       "1726     17961.0  Hello. \\ N I am an employee who has been maint...  INFP  \n",
       "\n",
       "[3322 rows x 5 columns]"
      ]
     },
     "execution_count": 50,
     "metadata": {},
     "output_type": "execute_result"
    }
   ],
   "source": [
    "merge_df = pd.concat([df_slice, en_df], axis = 1)\n",
    "\n",
    "merge_df"
   ]
  },
  {
   "cell_type": "code",
   "execution_count": 44,
   "metadata": {},
   "outputs": [
    {
     "data": {
      "text/plain": [
       "1        State -based and instructor full -time employe...\n",
       "2        1. In listen (current situation) \\ n due to th...\n",
       "4        I like to write this article to the president,...\n",
       "15       Teachers' promotion system scores a variety of...\n",
       "16       8.2 I will petition for the damage caused by t...\n",
       "                               ...                        \n",
       "17926    Hello \\ N \\ N \\ 참 참 참 I will post. \\ N I reall...\n",
       "17932    Respected President \\ N among the real estate ...\n",
       "17945    Economic behavior.No need.It doesn't help the ...\n",
       "17950    The people who are taxed by the current govern...\n",
       "17961    Hello. \\ N I am an employee who has been maint...\n",
       "Name: content, Length: 1727, dtype: object"
      ]
     },
     "execution_count": 44,
     "metadata": {},
     "output_type": "execute_result"
    }
   ],
   "source": [
    "df_slice"
   ]
  },
  {
   "cell_type": "code",
   "execution_count": 42,
   "metadata": {},
   "outputs": [
    {
     "data": {
      "text/plain": [
       "1        State -based and instructor full -time employe...\n",
       "2        1. In listen (current situation) \\ n due to th...\n",
       "4        I like to write this article to the president,...\n",
       "15       Teachers' promotion system scores a variety of...\n",
       "16       8.2 I will petition for the damage caused by t...\n",
       "                               ...                        \n",
       "17926    Hello \\ N \\ N \\ 참 참 참 I will post. \\ N I reall...\n",
       "17932    Respected President \\ N among the real estate ...\n",
       "17945    Economic behavior.No need.It doesn't help the ...\n",
       "17950    The people who are taxed by the current govern...\n",
       "17961    Hello. \\ N I am an employee who has been maint...\n",
       "Name: content, Length: 1727, dtype: object"
      ]
     },
     "execution_count": 42,
     "metadata": {},
     "output_type": "execute_result"
    }
   ],
   "source": [
    "from googletrans import Translator\n",
    "\n",
    "def languageTrans(text):\n",
    "    translator = Translator()\n",
    "\n",
    "    translation = translator.translate(text, dest = 'en')\n",
    "\n",
    "    return translation.text\n",
    "\n",
    "df_slice = df_slice['content'].apply(languageTrans)\n",
    "\n",
    "df_slice"
   ]
  },
  {
   "cell_type": "code",
   "execution_count": 43,
   "metadata": {},
   "outputs": [],
   "source": [
    "df_slice.to_csv('testdata.csv')"
   ]
  }
 ],
 "metadata": {
  "kernelspec": {
   "display_name": "Python 3",
   "language": "python",
   "name": "python3"
  },
  "language_info": {
   "codemirror_mode": {
    "name": "ipython",
    "version": 3
   },
   "file_extension": ".py",
   "mimetype": "text/x-python",
   "name": "python",
   "nbconvert_exporter": "python",
   "pygments_lexer": "ipython3",
   "version": "3.11.3"
  },
  "orig_nbformat": 4
 },
 "nbformat": 4,
 "nbformat_minor": 2
}
