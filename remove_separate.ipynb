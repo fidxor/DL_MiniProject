{
 "cells": [
  {
   "cell_type": "code",
   "execution_count": 4,
   "id": "831b1c03-0eec-45bd-add1-d8e20b80f25c",
   "metadata": {
    "tags": []
   },
   "outputs": [
    {
     "data": {
      "text/html": [
       "<div>\n",
       "<style scoped>\n",
       "    .dataframe tbody tr th:only-of-type {\n",
       "        vertical-align: middle;\n",
       "    }\n",
       "\n",
       "    .dataframe tbody tr th {\n",
       "        vertical-align: top;\n",
       "    }\n",
       "\n",
       "    .dataframe thead th {\n",
       "        text-align: right;\n",
       "    }\n",
       "</style>\n",
       "<table border=\"1\" class=\"dataframe\">\n",
       "  <thead>\n",
       "    <tr style=\"text-align: right;\">\n",
       "      <th></th>\n",
       "      <th>posts</th>\n",
       "      <th>type</th>\n",
       "      <th>E/I</th>\n",
       "      <th>S/N</th>\n",
       "      <th>T/F</th>\n",
       "      <th>J/P</th>\n",
       "    </tr>\n",
       "  </thead>\n",
       "  <tbody>\n",
       "    <tr>\n",
       "      <th>0</th>\n",
       "      <td>know intj tool use interaction people excuse a...</td>\n",
       "      <td>INTJ</td>\n",
       "      <td>0</td>\n",
       "      <td>0</td>\n",
       "      <td>1</td>\n",
       "      <td>1</td>\n",
       "    </tr>\n",
       "    <tr>\n",
       "      <th>1</th>\n",
       "      <td>rap music ehh opp yeah know valid well know fa...</td>\n",
       "      <td>INTJ</td>\n",
       "      <td>0</td>\n",
       "      <td>0</td>\n",
       "      <td>1</td>\n",
       "      <td>1</td>\n",
       "    </tr>\n",
       "    <tr>\n",
       "      <th>2</th>\n",
       "      <td>preferably p hd low except wew lad video p min...</td>\n",
       "      <td>INTJ</td>\n",
       "      <td>0</td>\n",
       "      <td>0</td>\n",
       "      <td>1</td>\n",
       "      <td>1</td>\n",
       "    </tr>\n",
       "    <tr>\n",
       "      <th>3</th>\n",
       "      <td>drink like wish could drink red wine give head...</td>\n",
       "      <td>INTJ</td>\n",
       "      <td>0</td>\n",
       "      <td>0</td>\n",
       "      <td>1</td>\n",
       "      <td>1</td>\n",
       "    </tr>\n",
       "    <tr>\n",
       "      <th>4</th>\n",
       "      <td>space program ah bad deal meing freelance max ...</td>\n",
       "      <td>INTJ</td>\n",
       "      <td>0</td>\n",
       "      <td>0</td>\n",
       "      <td>1</td>\n",
       "      <td>1</td>\n",
       "    </tr>\n",
       "    <tr>\n",
       "      <th>...</th>\n",
       "      <td>...</td>\n",
       "      <td>...</td>\n",
       "      <td>...</td>\n",
       "      <td>...</td>\n",
       "      <td>...</td>\n",
       "      <td>...</td>\n",
       "    </tr>\n",
       "    <tr>\n",
       "      <th>106062</th>\n",
       "      <td>stay frustrate world life want take long nap w...</td>\n",
       "      <td>INFP</td>\n",
       "      <td>0</td>\n",
       "      <td>0</td>\n",
       "      <td>0</td>\n",
       "      <td>0</td>\n",
       "    </tr>\n",
       "    <tr>\n",
       "      <th>106063</th>\n",
       "      <td>fizzle around time mention sure mistake thing ...</td>\n",
       "      <td>INFP</td>\n",
       "      <td>0</td>\n",
       "      <td>0</td>\n",
       "      <td>0</td>\n",
       "      <td>0</td>\n",
       "    </tr>\n",
       "    <tr>\n",
       "      <th>106064</th>\n",
       "      <td>schedule modify hey w intp strong wing underst...</td>\n",
       "      <td>INFP</td>\n",
       "      <td>0</td>\n",
       "      <td>0</td>\n",
       "      <td>0</td>\n",
       "      <td>0</td>\n",
       "    </tr>\n",
       "    <tr>\n",
       "      <th>106065</th>\n",
       "      <td>enfj since january busy schedule able spend li...</td>\n",
       "      <td>INFP</td>\n",
       "      <td>0</td>\n",
       "      <td>0</td>\n",
       "      <td>0</td>\n",
       "      <td>0</td>\n",
       "    </tr>\n",
       "    <tr>\n",
       "      <th>106066</th>\n",
       "      <td>feel like men good problem tell parent want te...</td>\n",
       "      <td>INFP</td>\n",
       "      <td>0</td>\n",
       "      <td>0</td>\n",
       "      <td>0</td>\n",
       "      <td>0</td>\n",
       "    </tr>\n",
       "  </tbody>\n",
       "</table>\n",
       "<p>106067 rows × 6 columns</p>\n",
       "</div>"
      ],
      "text/plain": [
       "                                                    posts  type  E/I  S/N  \\\n",
       "0       know intj tool use interaction people excuse a...  INTJ    0    0   \n",
       "1       rap music ehh opp yeah know valid well know fa...  INTJ    0    0   \n",
       "2       preferably p hd low except wew lad video p min...  INTJ    0    0   \n",
       "3       drink like wish could drink red wine give head...  INTJ    0    0   \n",
       "4       space program ah bad deal meing freelance max ...  INTJ    0    0   \n",
       "...                                                   ...   ...  ...  ...   \n",
       "106062  stay frustrate world life want take long nap w...  INFP    0    0   \n",
       "106063  fizzle around time mention sure mistake thing ...  INFP    0    0   \n",
       "106064  schedule modify hey w intp strong wing underst...  INFP    0    0   \n",
       "106065  enfj since january busy schedule able spend li...  INFP    0    0   \n",
       "106066  feel like men good problem tell parent want te...  INFP    0    0   \n",
       "\n",
       "        T/F  J/P  \n",
       "0         1    1  \n",
       "1         1    1  \n",
       "2         1    1  \n",
       "3         1    1  \n",
       "4         1    1  \n",
       "...     ...  ...  \n",
       "106062    0    0  \n",
       "106063    0    0  \n",
       "106064    0    0  \n",
       "106065    0    0  \n",
       "106066    0    0  \n",
       "\n",
       "[106067 rows x 6 columns]"
      ]
     },
     "execution_count": 4,
     "metadata": {},
     "output_type": "execute_result"
    }
   ],
   "source": [
    "import pandas as pd\n",
    "import warnings\n",
    "warnings.filterwarnings('ignore', category=Warning)\n",
    "from nltk.tokenize import word_tokenize\n",
    "from nltk.tokenize import WordPunctTokenizer\n",
    "from tensorflow.keras.preprocessing.text import text_to_word_sequence\n",
    "#import nltk\n",
    "#nltk.download()\n",
    "from nltk.corpus import stopwords\n",
    "\n",
    "df = pd.read_csv('mbti_col.csv')\n",
    "df = df.drop(columns=['Unnamed: 0'])\n",
    "df"
   ]
  },
  {
   "cell_type": "markdown",
   "id": "772b94c5-f3d3-4007-9eb6-163c25f25656",
   "metadata": {},
   "source": [
    "## MBTI 자릿수 별로 데이터 분류하기"
   ]
  },
  {
   "cell_type": "code",
   "execution_count": 5,
   "id": "7414edca-bcd3-4958-96cf-64ff494978ea",
   "metadata": {
    "tags": []
   },
   "outputs": [],
   "source": [
    "df_E = df[df['E/I']==1]\n",
    "df_I = df[df['E/I']==0]\n",
    "\n",
    "df_S = df[df['S/N']==1]\n",
    "df_N = df[df['S/N']==0]\n",
    "\n",
    "df_T = df[df['T/F']==1]\n",
    "df_F = df[df['T/F']==0]\n",
    "\n",
    "df_J = df[df['J/P']==1]\n",
    "df_P = df[df['J/P']==0]"
   ]
  },
  {
   "cell_type": "markdown",
   "id": "a8263e88-2064-40bf-8953-84dcbda2c1ea",
   "metadata": {},
   "source": [
    "## 불용어 제거"
   ]
  },
  {
   "cell_type": "code",
   "execution_count": 6,
   "id": "ec986a2c-4ee1-404d-8aaa-195487c9dcb9",
   "metadata": {
    "tags": []
   },
   "outputs": [],
   "source": [
    "EI = ['feel', 'time', 'say', 'good', 'would', 'really', 'want', 'way', 'see']\n",
    "SN = ['know', 'time', 'really', 'good', 'feel', 'want', 'see', 'way', 'also']\n",
    "TF = ['know', 'make', 'really', 'time', 'say', 'good', 'would', 'want', 'way', 'see']\n",
    "JP = ['know', 'make', 'say', 'time', 'good', 'would', 'want', 'way', 'see', 'really', 'also']"
   ]
  },
  {
   "cell_type": "code",
   "execution_count": 7,
   "id": "b5c29d46-325d-4bb7-9320-289c357b0fe1",
   "metadata": {
    "tags": []
   },
   "outputs": [],
   "source": [
    "def preprocess_text(text, cus_list):\n",
    "\n",
    "    tokens = word_tokenize(text)\n",
    "    text = text.lower()\n",
    "\n",
    "\n",
    "    stop_words = stopwords.words('english')\n",
    "    # 전체 샘플 불용어 처리\n",
    "    stop_words.extend(['mbti', 'infj', 'intj', 'infp', 'intp', 'enfj', 'entj', 'enfp', 'entp', 'isfj', 'istj'\n",
    "                       , 'isfp', 'istp', 'esfj', 'estj', 'esfp', 'estp', 'personality', 'type'\n",
    "                      ,'like', 'think', 'people', 'get', 'thing', 'make', 'know', 'feel', 'one', 'go'])\n",
    "    \n",
    "    stop_words.extend(cus_list)  # 자릿수 별 불용어 처리\n",
    "    \n",
    "    tokens = [word for word in tokens if word not in stop_words]\n",
    "    return tokens\n",
    "\n"
   ]
  },
  {
   "cell_type": "code",
   "execution_count": 8,
   "id": "f006c334-8b62-4810-91a0-43382b46dfdd",
   "metadata": {
    "tags": []
   },
   "outputs": [],
   "source": [
    "df_E['processed_posts'] = df_E['posts'].apply(preprocess_text, args = (EI,))\n",
    "df_I['processed_posts'] = df_I['posts'].apply(preprocess_text, args = (EI,))"
   ]
  },
  {
   "cell_type": "code",
   "execution_count": 16,
   "id": "395c00b0-4932-45ab-830a-57277281f529",
   "metadata": {
    "tags": []
   },
   "outputs": [],
   "source": [
    "df_S['processed_posts'] = df_S['posts'].apply(preprocess_text, args = (SN,))\n",
    "df_N['processed_posts'] = df_N['posts'].apply(preprocess_text, args = (SN,))"
   ]
  },
  {
   "cell_type": "code",
   "execution_count": 17,
   "id": "931dbd1b-7a62-48e9-b82a-0de217a5c822",
   "metadata": {
    "tags": []
   },
   "outputs": [],
   "source": [
    "df_T['processed_posts'] = df_T['posts'].apply(preprocess_text, args = (TF,))\n",
    "df_F['processed_posts'] = df_F['posts'].apply(preprocess_text, args = (TF,))"
   ]
  },
  {
   "cell_type": "code",
   "execution_count": 18,
   "id": "33f1d3ff-2edd-4d77-b218-ce1a3f422ee0",
   "metadata": {
    "tags": []
   },
   "outputs": [],
   "source": [
    "df_J['processed_posts'] = df_J['posts'].apply(preprocess_text, args = (JP,))\n",
    "df_P['processed_posts'] = df_P['posts'].apply(preprocess_text, args = (JP,))"
   ]
  },
  {
   "cell_type": "markdown",
   "id": "c513780e-69b6-4b55-a97d-93f24b653827",
   "metadata": {},
   "source": []
  }
 ],
 "metadata": {
  "kernelspec": {
   "display_name": "Python 3 (ipykernel)",
   "language": "python",
   "name": "python3"
  },
  "language_info": {
   "codemirror_mode": {
    "name": "ipython",
    "version": 3
   },
   "file_extension": ".py",
   "mimetype": "text/x-python",
   "name": "python",
   "nbconvert_exporter": "python",
   "pygments_lexer": "ipython3",
   "version": "3.10.11"
  }
 },
 "nbformat": 4,
 "nbformat_minor": 5
}
