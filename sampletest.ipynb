{
 "cells": [
  {
   "cell_type": "code",
   "execution_count": 11,
   "metadata": {},
   "outputs": [],
   "source": [
    "import pandas as pd\n",
    "import sklearn as sk\n",
    "\n",
    "# datadf = pd.read_csv('../data/MBTIdata')\n",
    "\n",
    "df = pd.read_csv('./data/MBTIdata/MBTI 500.csv')\n",
    "\n",
    "\n"
   ]
  },
  {
   "cell_type": "code",
   "execution_count": 4,
   "metadata": {},
   "outputs": [],
   "source": [
    "from nltk.tokenize import word_tokenize\n",
    "from nltk.tokenize import WordPunctTokenizer\n",
    "\n",
    "test = []\n",
    "# print(word_tokenize('test test ohein'))\n",
    "for i in df['posts']:\n",
    "    test.append(word_tokenize(i))\n"
   ]
  },
  {
   "cell_type": "code",
   "execution_count": 5,
   "metadata": {},
   "outputs": [
    {
     "name": "stdout",
     "output_type": "stream",
     "text": [
      "['know', 'intj', 'tool', 'use', 'interaction', 'people', 'excuse', 'antisocial', 'truly', 'enlighten', 'mastermind', 'know', 'would', 'count', 'pet', 'peeze', 'something', 'time', 'matter', 'people', 'either', 'whether', 'group', 'people', 'mall', 'never', 'see', 'best', 'friend', 'sit', 'outside', 'conversation', 'jsut', 'listen', 'want', 'interject', 'sit', 'formulate', 'say', 'wait', 'inject', 'argument', 'thought', 'find', 'fascinate', 'sit', 'watch', 'people', 'talk', 'people', 'fascinate', 'sit', 'class', 'watch', 'different', 'people', 'find', 'intrigue', 'dad', 'intj', 'u', 'stand', 'look', 'like', 'line', 'safeway', 'watch', 'people', 'home', 'talk', 'people', 'like', 'think', 'military', 'job', 'people', 'voluntarily', 'go', 'job', 'important', 'show', 'deference', 'endanger', 'live', 'glorify', 'way', 'civilian', 'think', 'pretty', 'ignorant', 'general', 'think', 'military', 'necessary', 'defense', 'mechanism', 'political', 'tactic', 'feel', 'like', 'u', 'specifically', 'invest', 'much', 'money', 'could', 'put', 'money', 'education', 'whatnot', 'though', 'personally', 'sound', 'budget', 'aernative', 'really', 'comment', 'one', 'way', 'base', 'two', 'politician', 'eye', 'year', 'ago', 'come', 'name', 'somewhat', 'important', 'kinda', 'role', 'model', 'nowadays', 'pick', 'keep', 'score', 'individual', 'level', 'mean', 'little', 'vary', 'accord', 'number', 'condition', 'day', 'may', 'score', 'high', 'others', 'low', 'sweat', 'really', 'good', 'cast', 'physiotherapist', 'like', 'fiberglass', 'cast', 'break', 'arm', 'whatever', 'sometimes', 'want', 'take', 'picture', 'beast', 'put', 'someone', 'arm', 'sadly', 'people', 'blind', 'brilliance', 'need', 'tell', 'directly', 'wave', 'arm', 'frantically', 'totally', 'beyond', 'oblivious', 'get', 'good', 'eye', 'contact', 'help', 'lot', 'start', 'find', 'like', 'attention', 'get', 'opposite', 'sex', 'notice', 'however', 'gay', 'men', 'tend', 'little', 'aggressive', 'always', 'walk', 'away', 'flatter', 'like', 'alcohol', 'bad', 'start', 'generally', 'keep', 'go', 'pas', 'run', 'money', 'even', 'mention', 'fact', 'crave', 'cocaine', 'drink', 'political', 'power', 'mainly', 'desire', 'form', 'power', 'okay', 'status', 'still', 'never', 'study', 'day', 'life', 'never', 'learn', 'study', 'feel', 'like', 'real', 'whatever', 'reason', 'college', 'prepare', 'recieve', 'people', 'like', 'depend', 'career', 'introductory', 'course', 'help', 'start', 'rid', 'bike', 'write', 'essay', 'etc', 'choose', 'career', 'least', 'stimulate', 'mind', 'expand', 'perspective', 'reality', 'without', 'college', 'like', 'kiss', 'sound', 'ear', 'yup', 'roll', 'end', 'quite', 'strange', 'confession', 'time', 'mind', 'wish', 'people', 'le', 'judgemental', 'self', 'perceive', 'flaw', 'run', 'situation', 'person', 'confess', 'something', 'expect', 'judge', 'one', 'way', 'another', 'freak', 'realize', 'judge', 'gasp', 'human', 'interpret', 'acknowledgement', 'sign', 'terrible', 'person', 'agree', 'bad', 'impulse', 'ditch', 'safe', 'place', 'quickly', 'become', 'somewhere', 'dump', 'emotional', 'trash', 'gui', 'free', 'interest', 'play', 'role', 'mind', 'noise', 'midnight', 'still', 'go', 'make', 'really', 'cranky', 'lol', 'already', 'know', 'autistic', 'even', 'know', 'asd', 'associate', 'intj', 'people', 'mind', 'two', 'even', 'remotely', 'similar', 'card', 'conspiracy', 'hallmark', 'post', 'office', 'long', 'enough', 'people', 'whether', 'individual', 'people', 'government', 'conglomerate', 'corporation', 'understand', 'biodiversity', 'something', 'need', 'fund', 'even', 'though', 'make', 'money', 'instead', 'insurance', 'policy', 'fine', 'aka', 'negative', 'external', 'form', 'cost', 'need', 'separate', 'positive', 'surplus', 'cost', 'much', 'thing', 'like', 'seed', 'bank', 'visualize', 'cost', 'percent', 'farm', 'benefit', 'cost', 'yet', 'need', 'fund', 'separately', 'individual', 'farmer', 'individual', 'farmer', 'corporation', 'think', 'well', 'someone', 'else', 'people', 'free', 'rider', 'problem', 'seed', 'bank', 'never', 'get', 'set', 'stuff', 'like', 'government', 'capitalism', 'may', 'provide', 'innovation', 'government', 'set', 'regulation', 'prevent', 'negative', 'consequence', 'unintentional', 'externality', 'seed', 'bank', 'get', 'set', 'half', 'thousand', 'differents', 'solution', 'perhaps', 'general', 'tax', 'commerce', 'usage', 'fee', 'similar', 'california', 'recycle', 'fee', 'electronics', 'form', 'donation', 'pledge', 'system', 'regardless', 'need', 'get', 'seed', 'bank', 'get', 'expert', 'truely', 'know', 'enough', 'need', 'biodiversity', 'seed', 'farm', 'whether', 'enough', 'seed', 'farm', 'different', 'location', 'properly', 'fund', 'amp', 'bsp', 'say', 'expert', 'know', 'enough', 'due', 'single', 'college', 'class', 'involve', 'economics', 'say', 'economic', 'class', 'involve', 'lot', 'history', 'use', 'case', 'study', 'green', 'revolution']\n"
     ]
    }
   ],
   "source": [
    "print(test[0])"
   ]
  },
  {
   "cell_type": "code",
   "execution_count": 12,
   "metadata": {},
   "outputs": [
    {
     "name": "stdout",
     "output_type": "stream",
     "text": [
      "showing info https://raw.githubusercontent.com/nltk/nltk_data/gh-pages/index.xml\n"
     ]
    },
    {
     "data": {
      "text/plain": [
       "True"
      ]
     },
     "execution_count": 12,
     "metadata": {},
     "output_type": "execute_result"
    }
   ],
   "source": [
    "import nltk\n",
    "nltk.download()"
   ]
  },
  {
   "cell_type": "code",
   "execution_count": 13,
   "metadata": {},
   "outputs": [
    {
     "data": {
      "text/html": [
       "<div>\n",
       "<style scoped>\n",
       "    .dataframe tbody tr th:only-of-type {\n",
       "        vertical-align: middle;\n",
       "    }\n",
       "\n",
       "    .dataframe tbody tr th {\n",
       "        vertical-align: top;\n",
       "    }\n",
       "\n",
       "    .dataframe thead th {\n",
       "        text-align: right;\n",
       "    }\n",
       "</style>\n",
       "<table border=\"1\" class=\"dataframe\">\n",
       "  <thead>\n",
       "    <tr style=\"text-align: right;\">\n",
       "      <th></th>\n",
       "      <th>posts</th>\n",
       "      <th>type</th>\n",
       "    </tr>\n",
       "  </thead>\n",
       "  <tbody>\n",
       "    <tr>\n",
       "      <th>22427</th>\n",
       "      <td>watch bite everything include hentai tend enjo...</td>\n",
       "      <td>INTP</td>\n",
       "    </tr>\n",
       "    <tr>\n",
       "      <th>22428</th>\n",
       "      <td>like goal personally appeal probably wrong see...</td>\n",
       "      <td>INTP</td>\n",
       "    </tr>\n",
       "    <tr>\n",
       "      <th>22429</th>\n",
       "      <td>fill unfortunately read habit want learn prefe...</td>\n",
       "      <td>INTP</td>\n",
       "    </tr>\n",
       "    <tr>\n",
       "      <th>22430</th>\n",
       "      <td>people idea reason enjoy leadership role like ...</td>\n",
       "      <td>INTP</td>\n",
       "    </tr>\n",
       "    <tr>\n",
       "      <th>22431</th>\n",
       "      <td>state grievance ego lack skill find polarize w...</td>\n",
       "      <td>INTP</td>\n",
       "    </tr>\n",
       "    <tr>\n",
       "      <th>...</th>\n",
       "      <td>...</td>\n",
       "      <td>...</td>\n",
       "    </tr>\n",
       "    <tr>\n",
       "      <th>47383</th>\n",
       "      <td>rational one specific individual way express o...</td>\n",
       "      <td>INTP</td>\n",
       "    </tr>\n",
       "    <tr>\n",
       "      <th>47384</th>\n",
       "      <td>go part time lover extra lover interest see is...</td>\n",
       "      <td>INTP</td>\n",
       "    </tr>\n",
       "    <tr>\n",
       "      <th>47385</th>\n",
       "      <td>frustration think much little want doer want p...</td>\n",
       "      <td>INTP</td>\n",
       "    </tr>\n",
       "    <tr>\n",
       "      <th>47386</th>\n",
       "      <td>cuure offer case come place never depend many ...</td>\n",
       "      <td>INTP</td>\n",
       "    </tr>\n",
       "    <tr>\n",
       "      <th>47387</th>\n",
       "      <td>friend meaningful human interaction speak ha g...</td>\n",
       "      <td>INTP</td>\n",
       "    </tr>\n",
       "  </tbody>\n",
       "</table>\n",
       "<p>24961 rows × 2 columns</p>\n",
       "</div>"
      ],
      "text/plain": [
       "                                                   posts  type\n",
       "22427  watch bite everything include hentai tend enjo...  INTP\n",
       "22428  like goal personally appeal probably wrong see...  INTP\n",
       "22429  fill unfortunately read habit want learn prefe...  INTP\n",
       "22430  people idea reason enjoy leadership role like ...  INTP\n",
       "22431  state grievance ego lack skill find polarize w...  INTP\n",
       "...                                                  ...   ...\n",
       "47383  rational one specific individual way express o...  INTP\n",
       "47384  go part time lover extra lover interest see is...  INTP\n",
       "47385  frustration think much little want doer want p...  INTP\n",
       "47386  cuure offer case come place never depend many ...  INTP\n",
       "47387  friend meaningful human interaction speak ha g...  INTP\n",
       "\n",
       "[24961 rows x 2 columns]"
      ]
     },
     "execution_count": 13,
     "metadata": {},
     "output_type": "execute_result"
    }
   ],
   "source": [
    "df[df.type == 'INTP']\n",
    "\n"
   ]
  },
  {
   "cell_type": "code",
   "execution_count": 30,
   "metadata": {},
   "outputs": [
    {
     "name": "stderr",
     "output_type": "stream",
     "text": [
      "C:\\Users\\Playdata\\AppData\\Local\\Temp\\ipykernel_6140\\2349212462.py:5: SettingWithCopyWarning: \n",
      "A value is trying to be set on a copy of a slice from a DataFrame.\n",
      "Try using .loc[row_indexer,col_indexer] = value instead\n",
      "\n",
      "See the caveats in the documentation: https://pandas.pydata.org/pandas-docs/stable/user_guide/indexing.html#returning-a-view-versus-a-copy\n",
      "  newdf['type2'] = alphabet\n"
     ]
    },
    {
     "data": {
      "text/html": [
       "<div>\n",
       "<style scoped>\n",
       "    .dataframe tbody tr th:only-of-type {\n",
       "        vertical-align: middle;\n",
       "    }\n",
       "\n",
       "    .dataframe tbody tr th {\n",
       "        vertical-align: top;\n",
       "    }\n",
       "\n",
       "    .dataframe thead th {\n",
       "        text-align: right;\n",
       "    }\n",
       "</style>\n",
       "<table border=\"1\" class=\"dataframe\">\n",
       "  <thead>\n",
       "    <tr style=\"text-align: right;\">\n",
       "      <th></th>\n",
       "      <th>posts</th>\n",
       "      <th>type</th>\n",
       "      <th>type2</th>\n",
       "    </tr>\n",
       "  </thead>\n",
       "  <tbody>\n",
       "    <tr>\n",
       "      <th>0</th>\n",
       "      <td>know intj tool use interaction people excuse a...</td>\n",
       "      <td>INTJ</td>\n",
       "      <td>T</td>\n",
       "    </tr>\n",
       "    <tr>\n",
       "      <th>1</th>\n",
       "      <td>rap music ehh opp yeah know valid well know fa...</td>\n",
       "      <td>INTJ</td>\n",
       "      <td>T</td>\n",
       "    </tr>\n",
       "    <tr>\n",
       "      <th>2</th>\n",
       "      <td>preferably p hd low except wew lad video p min...</td>\n",
       "      <td>INTJ</td>\n",
       "      <td>T</td>\n",
       "    </tr>\n",
       "    <tr>\n",
       "      <th>3</th>\n",
       "      <td>drink like wish could drink red wine give head...</td>\n",
       "      <td>INTJ</td>\n",
       "      <td>T</td>\n",
       "    </tr>\n",
       "    <tr>\n",
       "      <th>4</th>\n",
       "      <td>space program ah bad deal meing freelance max ...</td>\n",
       "      <td>INTJ</td>\n",
       "      <td>T</td>\n",
       "    </tr>\n",
       "    <tr>\n",
       "      <th>...</th>\n",
       "      <td>...</td>\n",
       "      <td>...</td>\n",
       "      <td>...</td>\n",
       "    </tr>\n",
       "    <tr>\n",
       "      <th>78965</th>\n",
       "      <td>th say like envisage bad scenario possible kno...</td>\n",
       "      <td>ESTP</td>\n",
       "      <td>T</td>\n",
       "    </tr>\n",
       "    <tr>\n",
       "      <th>78966</th>\n",
       "      <td>bubble ngry kick nut ad wear thick rim black g...</td>\n",
       "      <td>ESTP</td>\n",
       "      <td>T</td>\n",
       "    </tr>\n",
       "    <tr>\n",
       "      <th>78967</th>\n",
       "      <td>gift estps want test law break law entps want ...</td>\n",
       "      <td>ESTP</td>\n",
       "      <td>T</td>\n",
       "    </tr>\n",
       "    <tr>\n",
       "      <th>78968</th>\n",
       "      <td>kevin estj lori enfj robert ne user yep see to...</td>\n",
       "      <td>ESTP</td>\n",
       "      <td>T</td>\n",
       "    </tr>\n",
       "    <tr>\n",
       "      <th>78969</th>\n",
       "      <td>ignore time chuck norris oh wait moment rememb...</td>\n",
       "      <td>ESTP</td>\n",
       "      <td>T</td>\n",
       "    </tr>\n",
       "  </tbody>\n",
       "</table>\n",
       "<p>69203 rows × 3 columns</p>\n",
       "</div>"
      ],
      "text/plain": [
       "                                                   posts  type type2\n",
       "0      know intj tool use interaction people excuse a...  INTJ     T\n",
       "1      rap music ehh opp yeah know valid well know fa...  INTJ     T\n",
       "2      preferably p hd low except wew lad video p min...  INTJ     T\n",
       "3      drink like wish could drink red wine give head...  INTJ     T\n",
       "4      space program ah bad deal meing freelance max ...  INTJ     T\n",
       "...                                                  ...   ...   ...\n",
       "78965  th say like envisage bad scenario possible kno...  ESTP     T\n",
       "78966  bubble ngry kick nut ad wear thick rim black g...  ESTP     T\n",
       "78967  gift estps want test law break law entps want ...  ESTP     T\n",
       "78968  kevin estj lori enfj robert ne user yep see to...  ESTP     T\n",
       "78969  ignore time chuck norris oh wait moment rememb...  ESTP     T\n",
       "\n",
       "[69203 rows x 3 columns]"
      ]
     },
     "execution_count": 30,
     "metadata": {},
     "output_type": "execute_result"
    }
   ],
   "source": [
    "alphabet = 'T'\n",
    "\n",
    "newdf = df[df['type'].str.contains(alphabet)]\n",
    "\n",
    "newdf['type2'] = alphabet"
   ]
  },
  {
   "cell_type": "code",
   "execution_count": 41,
   "metadata": {},
   "outputs": [
    {
     "name": "stderr",
     "output_type": "stream",
     "text": [
      "C:\\Users\\Playdata\\AppData\\Local\\Temp\\ipykernel_6140\\3428946277.py:7: SettingWithCopyWarning: \n",
      "A value is trying to be set on a copy of a slice from a DataFrame.\n",
      "Try using .loc[row_indexer,col_indexer] = value instead\n",
      "\n",
      "See the caveats in the documentation: https://pandas.pydata.org/pandas-docs/stable/user_guide/indexing.html#returning-a-view-versus-a-copy\n",
      "  newdf['type2'] = alpha\n",
      "C:\\Users\\Playdata\\AppData\\Local\\Temp\\ipykernel_6140\\3428946277.py:7: SettingWithCopyWarning: \n",
      "A value is trying to be set on a copy of a slice from a DataFrame.\n",
      "Try using .loc[row_indexer,col_indexer] = value instead\n",
      "\n",
      "See the caveats in the documentation: https://pandas.pydata.org/pandas-docs/stable/user_guide/indexing.html#returning-a-view-versus-a-copy\n",
      "  newdf['type2'] = alpha\n",
      "C:\\Users\\Playdata\\AppData\\Local\\Temp\\ipykernel_6140\\3428946277.py:7: SettingWithCopyWarning: \n",
      "A value is trying to be set on a copy of a slice from a DataFrame.\n",
      "Try using .loc[row_indexer,col_indexer] = value instead\n",
      "\n",
      "See the caveats in the documentation: https://pandas.pydata.org/pandas-docs/stable/user_guide/indexing.html#returning-a-view-versus-a-copy\n",
      "  newdf['type2'] = alpha\n",
      "C:\\Users\\Playdata\\AppData\\Local\\Temp\\ipykernel_6140\\3428946277.py:7: SettingWithCopyWarning: \n",
      "A value is trying to be set on a copy of a slice from a DataFrame.\n",
      "Try using .loc[row_indexer,col_indexer] = value instead\n",
      "\n",
      "See the caveats in the documentation: https://pandas.pydata.org/pandas-docs/stable/user_guide/indexing.html#returning-a-view-versus-a-copy\n",
      "  newdf['type2'] = alpha\n",
      "C:\\Users\\Playdata\\AppData\\Local\\Temp\\ipykernel_6140\\3428946277.py:7: SettingWithCopyWarning: \n",
      "A value is trying to be set on a copy of a slice from a DataFrame.\n",
      "Try using .loc[row_indexer,col_indexer] = value instead\n",
      "\n",
      "See the caveats in the documentation: https://pandas.pydata.org/pandas-docs/stable/user_guide/indexing.html#returning-a-view-versus-a-copy\n",
      "  newdf['type2'] = alpha\n",
      "C:\\Users\\Playdata\\AppData\\Local\\Temp\\ipykernel_6140\\3428946277.py:7: SettingWithCopyWarning: \n",
      "A value is trying to be set on a copy of a slice from a DataFrame.\n",
      "Try using .loc[row_indexer,col_indexer] = value instead\n",
      "\n",
      "See the caveats in the documentation: https://pandas.pydata.org/pandas-docs/stable/user_guide/indexing.html#returning-a-view-versus-a-copy\n",
      "  newdf['type2'] = alpha\n",
      "C:\\Users\\Playdata\\AppData\\Local\\Temp\\ipykernel_6140\\3428946277.py:7: SettingWithCopyWarning: \n",
      "A value is trying to be set on a copy of a slice from a DataFrame.\n",
      "Try using .loc[row_indexer,col_indexer] = value instead\n",
      "\n",
      "See the caveats in the documentation: https://pandas.pydata.org/pandas-docs/stable/user_guide/indexing.html#returning-a-view-versus-a-copy\n",
      "  newdf['type2'] = alpha\n",
      "C:\\Users\\Playdata\\AppData\\Local\\Temp\\ipykernel_6140\\3428946277.py:7: SettingWithCopyWarning: \n",
      "A value is trying to be set on a copy of a slice from a DataFrame.\n",
      "Try using .loc[row_indexer,col_indexer] = value instead\n",
      "\n",
      "See the caveats in the documentation: https://pandas.pydata.org/pandas-docs/stable/user_guide/indexing.html#returning-a-view-versus-a-copy\n",
      "  newdf['type2'] = alpha\n"
     ]
    }
   ],
   "source": [
    "totaldf = df\n",
    "def mbtipart(lst):\n",
    "    global totaldf \n",
    "\n",
    "    for alpha in lst:\n",
    "        newdf = df[df['type'].str.contains(alpha)]\n",
    "        newdf['type2'] = alpha\n",
    "\n",
    "        totaldf = pd.concat([totaldf, newdf])\n",
    "\n",
    "mbtipart(['I', 'E', 'S', 'N', 'T', 'F', 'J', 'P'])    "
   ]
  },
  {
   "cell_type": "code",
   "execution_count": 42,
   "metadata": {},
   "outputs": [],
   "source": [
    "df.drop(df[(df['type2'] == None)].index, inplace=True)\n",
    "\n",
    "totaldf.to_csv('total.csv')"
   ]
  },
  {
   "cell_type": "code",
   "execution_count": null,
   "metadata": {},
   "outputs": [],
   "source": [
    "import matplotlib.pyplot as plt\n",
    "\n"
   ]
  }
 ],
 "metadata": {
  "kernelspec": {
   "display_name": "Python 3",
   "language": "python",
   "name": "python3"
  },
  "language_info": {
   "codemirror_mode": {
    "name": "ipython",
    "version": 3
   },
   "file_extension": ".py",
   "mimetype": "text/x-python",
   "name": "python",
   "nbconvert_exporter": "python",
   "pygments_lexer": "ipython3",
   "version": "3.11.3"
  },
  "orig_nbformat": 4
 },
 "nbformat": 4,
 "nbformat_minor": 2
}
